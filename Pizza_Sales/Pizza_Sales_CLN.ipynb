{
  "nbformat": 4,
  "nbformat_minor": 0,
  "metadata": {
    "colab": {
      "provenance": []
    },
    "kernelspec": {
      "name": "python3",
      "display_name": "Python 3"
    },
    "language_info": {
      "name": "python"
    }
  },
  "cells": [
    {
      "cell_type": "code",
      "execution_count": 4,
      "metadata": {
        "id": "NeeXvAikMiI7"
      },
      "outputs": [],
      "source": [
        "import pandas as pd"
      ]
    },
    {
      "cell_type": "code",
      "source": [
        "#Membaca data dengan memasukkan ke variabel\n",
        "pizza_sales = pd.read_csv(\"pizza_sales.csv\",header=1)"
      ],
      "metadata": {
        "id": "GPWBXKhlNS16"
      },
      "execution_count": 48,
      "outputs": []
    },
    {
      "cell_type": "code",
      "source": [
        "# Melihat keseluruah isi data dengan kolom nya\n",
        "pizza_sales.info()"
      ],
      "metadata": {
        "colab": {
          "base_uri": "https://localhost:8080/"
        },
        "id": "MUydutGHNzDk",
        "outputId": "fed7616c-90fe-49b7-ed61-7bdf4340a626"
      },
      "execution_count": 36,
      "outputs": [
        {
          "output_type": "stream",
          "name": "stdout",
          "text": [
            "<class 'pandas.core.frame.DataFrame'>\n",
            "RangeIndex: 48620 entries, 0 to 48619\n",
            "Data columns (total 13 columns):\n",
            " #   Column             Non-Null Count  Dtype \n",
            "---  ------             --------------  ----- \n",
            " 0   pizza_id           48620 non-null  int64 \n",
            " 1   order_id           48620 non-null  int64 \n",
            " 2   pizza_name_id      48620 non-null  object\n",
            " 3   quantity           48620 non-null  int64 \n",
            " 4   order_date         48620 non-null  object\n",
            " 5   order_time         48620 non-null  object\n",
            " 6   unit_price         48620 non-null  object\n",
            " 7   total_price        48620 non-null  object\n",
            " 8   pizza_size         48620 non-null  object\n",
            " 9   pizza_category     48620 non-null  object\n",
            " 10  pizza_ingredients  48620 non-null  object\n",
            " 11  pizza_name         48620 non-null  object\n",
            " 12  order_date_2       48620 non-null  object\n",
            "dtypes: int64(3), object(10)\n",
            "memory usage: 4.8+ MB\n"
          ]
        }
      ]
    },
    {
      "cell_type": "code",
      "source": [
        "# melakukan pembersihan dengan menghapus tanda '$' dan ',' pada kolom price\n",
        "pizza_sales['unit_price'] = pizza_sales['unit_price'].str.replace('$','',regex=False).str.replace(',','.',regex=False)\n",
        "pizza_sales['total_price'] = pizza_sales['total_price'].str.replace('$','',regex=False).str.replace(',','.',regex=False)"
      ],
      "metadata": {
        "id": "_uK7w_HLPAZB"
      },
      "execution_count": 49,
      "outputs": []
    },
    {
      "cell_type": "code",
      "source": [
        "# mengubah tipe datanya jadi number float\n",
        "pizza_sales['unit_price'] = pizza_sales['unit_price'].astype(float)\n",
        "pizza_sales['total_price'] = pizza_sales['total_price'].astype(float)"
      ],
      "metadata": {
        "id": "SeMLw03IQtYv"
      },
      "execution_count": 50,
      "outputs": []
    },
    {
      "cell_type": "code",
      "source": [
        "# mengubah tipe date dari kolom order date\n",
        "pizza_sales['order_date'] = pd.to_datetime(pizza_sales['order_date'])"
      ],
      "metadata": {
        "id": "vqWio4ujVDfx"
      },
      "execution_count": 64,
      "outputs": []
    },
    {
      "cell_type": "code",
      "source": [
        "pizza_sales['order_time'] = pd.to_datetime(pizza_sales['order_time']).dt.time\n"
      ],
      "metadata": {
        "id": "5v1YU_5MVZsE"
      },
      "execution_count": 70,
      "outputs": []
    },
    {
      "cell_type": "code",
      "source": [
        "# hapus kolom order_date_2\n",
        "pizza_sales = pizza_sales.drop(columns='order_date_2')"
      ],
      "metadata": {
        "id": "m-K5Lpl5Xj1z"
      },
      "execution_count": 75,
      "outputs": []
    },
    {
      "cell_type": "code",
      "source": [
        "pizza_sales.head(1)"
      ],
      "metadata": {
        "colab": {
          "base_uri": "https://localhost:8080/",
          "height": 135
        },
        "id": "NZeX7dLASzMl",
        "outputId": "ded7e9d5-ec6b-49ef-a109-4986d0de0b1a"
      },
      "execution_count": 76,
      "outputs": [
        {
          "output_type": "execute_result",
          "data": {
            "text/plain": [
              "   pizza_id  order_id pizza_name_id  quantity order_date order_time  \\\n",
              "0         1         1    hawaiian_m         1 2015-01-01   11:38:36   \n",
              "\n",
              "   unit_price  total_price pizza_size pizza_category  \\\n",
              "0       13.25        13.25          M        Classic   \n",
              "\n",
              "                          pizza_ingredients          pizza_name  \n",
              "0  Sliced Ham, Pineapple, Mozzarella Cheese  The Hawaiian Pizza  "
            ],
            "text/html": [
              "\n",
              "  <div id=\"df-019663f1-eab3-4b05-83cc-66f76a21c36a\" class=\"colab-df-container\">\n",
              "    <div>\n",
              "<style scoped>\n",
              "    .dataframe tbody tr th:only-of-type {\n",
              "        vertical-align: middle;\n",
              "    }\n",
              "\n",
              "    .dataframe tbody tr th {\n",
              "        vertical-align: top;\n",
              "    }\n",
              "\n",
              "    .dataframe thead th {\n",
              "        text-align: right;\n",
              "    }\n",
              "</style>\n",
              "<table border=\"1\" class=\"dataframe\">\n",
              "  <thead>\n",
              "    <tr style=\"text-align: right;\">\n",
              "      <th></th>\n",
              "      <th>pizza_id</th>\n",
              "      <th>order_id</th>\n",
              "      <th>pizza_name_id</th>\n",
              "      <th>quantity</th>\n",
              "      <th>order_date</th>\n",
              "      <th>order_time</th>\n",
              "      <th>unit_price</th>\n",
              "      <th>total_price</th>\n",
              "      <th>pizza_size</th>\n",
              "      <th>pizza_category</th>\n",
              "      <th>pizza_ingredients</th>\n",
              "      <th>pizza_name</th>\n",
              "    </tr>\n",
              "  </thead>\n",
              "  <tbody>\n",
              "    <tr>\n",
              "      <th>0</th>\n",
              "      <td>1</td>\n",
              "      <td>1</td>\n",
              "      <td>hawaiian_m</td>\n",
              "      <td>1</td>\n",
              "      <td>2015-01-01</td>\n",
              "      <td>11:38:36</td>\n",
              "      <td>13.25</td>\n",
              "      <td>13.25</td>\n",
              "      <td>M</td>\n",
              "      <td>Classic</td>\n",
              "      <td>Sliced Ham, Pineapple, Mozzarella Cheese</td>\n",
              "      <td>The Hawaiian Pizza</td>\n",
              "    </tr>\n",
              "  </tbody>\n",
              "</table>\n",
              "</div>\n",
              "    <div class=\"colab-df-buttons\">\n",
              "\n",
              "  <div class=\"colab-df-container\">\n",
              "    <button class=\"colab-df-convert\" onclick=\"convertToInteractive('df-019663f1-eab3-4b05-83cc-66f76a21c36a')\"\n",
              "            title=\"Convert this dataframe to an interactive table.\"\n",
              "            style=\"display:none;\">\n",
              "\n",
              "  <svg xmlns=\"http://www.w3.org/2000/svg\" height=\"24px\" viewBox=\"0 -960 960 960\">\n",
              "    <path d=\"M120-120v-720h720v720H120Zm60-500h600v-160H180v160Zm220 220h160v-160H400v160Zm0 220h160v-160H400v160ZM180-400h160v-160H180v160Zm440 0h160v-160H620v160ZM180-180h160v-160H180v160Zm440 0h160v-160H620v160Z\"/>\n",
              "  </svg>\n",
              "    </button>\n",
              "\n",
              "  <style>\n",
              "    .colab-df-container {\n",
              "      display:flex;\n",
              "      gap: 12px;\n",
              "    }\n",
              "\n",
              "    .colab-df-convert {\n",
              "      background-color: #E8F0FE;\n",
              "      border: none;\n",
              "      border-radius: 50%;\n",
              "      cursor: pointer;\n",
              "      display: none;\n",
              "      fill: #1967D2;\n",
              "      height: 32px;\n",
              "      padding: 0 0 0 0;\n",
              "      width: 32px;\n",
              "    }\n",
              "\n",
              "    .colab-df-convert:hover {\n",
              "      background-color: #E2EBFA;\n",
              "      box-shadow: 0px 1px 2px rgba(60, 64, 67, 0.3), 0px 1px 3px 1px rgba(60, 64, 67, 0.15);\n",
              "      fill: #174EA6;\n",
              "    }\n",
              "\n",
              "    .colab-df-buttons div {\n",
              "      margin-bottom: 4px;\n",
              "    }\n",
              "\n",
              "    [theme=dark] .colab-df-convert {\n",
              "      background-color: #3B4455;\n",
              "      fill: #D2E3FC;\n",
              "    }\n",
              "\n",
              "    [theme=dark] .colab-df-convert:hover {\n",
              "      background-color: #434B5C;\n",
              "      box-shadow: 0px 1px 3px 1px rgba(0, 0, 0, 0.15);\n",
              "      filter: drop-shadow(0px 1px 2px rgba(0, 0, 0, 0.3));\n",
              "      fill: #FFFFFF;\n",
              "    }\n",
              "  </style>\n",
              "\n",
              "    <script>\n",
              "      const buttonEl =\n",
              "        document.querySelector('#df-019663f1-eab3-4b05-83cc-66f76a21c36a button.colab-df-convert');\n",
              "      buttonEl.style.display =\n",
              "        google.colab.kernel.accessAllowed ? 'block' : 'none';\n",
              "\n",
              "      async function convertToInteractive(key) {\n",
              "        const element = document.querySelector('#df-019663f1-eab3-4b05-83cc-66f76a21c36a');\n",
              "        const dataTable =\n",
              "          await google.colab.kernel.invokeFunction('convertToInteractive',\n",
              "                                                    [key], {});\n",
              "        if (!dataTable) return;\n",
              "\n",
              "        const docLinkHtml = 'Like what you see? Visit the ' +\n",
              "          '<a target=\"_blank\" href=https://colab.research.google.com/notebooks/data_table.ipynb>data table notebook</a>'\n",
              "          + ' to learn more about interactive tables.';\n",
              "        element.innerHTML = '';\n",
              "        dataTable['output_type'] = 'display_data';\n",
              "        await google.colab.output.renderOutput(dataTable, element);\n",
              "        const docLink = document.createElement('div');\n",
              "        docLink.innerHTML = docLinkHtml;\n",
              "        element.appendChild(docLink);\n",
              "      }\n",
              "    </script>\n",
              "  </div>\n",
              "\n",
              "\n",
              "    </div>\n",
              "  </div>\n"
            ],
            "application/vnd.google.colaboratory.intrinsic+json": {
              "type": "dataframe",
              "variable_name": "pizza_sales",
              "summary": "{\n  \"name\": \"pizza_sales\",\n  \"rows\": 48620,\n  \"fields\": [\n    {\n      \"column\": \"pizza_id\",\n      \"properties\": {\n        \"dtype\": \"number\",\n        \"std\": 14035,\n        \"min\": 1,\n        \"max\": 48620,\n        \"num_unique_values\": 48620,\n        \"samples\": [\n          42519,\n          39006,\n          12784\n        ],\n        \"semantic_type\": \"\",\n        \"description\": \"\"\n      }\n    },\n    {\n      \"column\": \"order_id\",\n      \"properties\": {\n        \"dtype\": \"number\",\n        \"std\": 6180,\n        \"min\": 1,\n        \"max\": 21350,\n        \"num_unique_values\": 21350,\n        \"samples\": [\n          19270,\n          4635,\n          5413\n        ],\n        \"semantic_type\": \"\",\n        \"description\": \"\"\n      }\n    },\n    {\n      \"column\": \"pizza_name_id\",\n      \"properties\": {\n        \"dtype\": \"category\",\n        \"num_unique_values\": 91,\n        \"samples\": [\n          \"southw_ckn_s\",\n          \"cali_ckn_l\",\n          \"spin_pesto_s\"\n        ],\n        \"semantic_type\": \"\",\n        \"description\": \"\"\n      }\n    },\n    {\n      \"column\": \"quantity\",\n      \"properties\": {\n        \"dtype\": \"number\",\n        \"std\": 0,\n        \"min\": 1,\n        \"max\": 4,\n        \"num_unique_values\": 4,\n        \"samples\": [\n          2,\n          4,\n          1\n        ],\n        \"semantic_type\": \"\",\n        \"description\": \"\"\n      }\n    },\n    {\n      \"column\": \"order_date\",\n      \"properties\": {\n        \"dtype\": \"date\",\n        \"min\": \"2015-01-01 00:00:00\",\n        \"max\": \"2015-12-31 00:00:00\",\n        \"num_unique_values\": 358,\n        \"samples\": [\n          \"2015-08-12 00:00:00\",\n          \"2015-02-12 00:00:00\",\n          \"2015-09-19 00:00:00\"\n        ],\n        \"semantic_type\": \"\",\n        \"description\": \"\"\n      }\n    },\n    {\n      \"column\": \"order_time\",\n      \"properties\": {\n        \"dtype\": \"category\",\n        \"num_unique_values\": 16382,\n        \"samples\": [\n          \"13:48:54\",\n          \"17:35:34\",\n          \"20:21:52\"\n        ],\n        \"semantic_type\": \"\",\n        \"description\": \"\"\n      }\n    },\n    {\n      \"column\": \"unit_price\",\n      \"properties\": {\n        \"dtype\": \"number\",\n        \"std\": 3.6217891586575077,\n        \"min\": 9.75,\n        \"max\": 35.95,\n        \"num_unique_values\": 25,\n        \"samples\": [\n          20.5,\n          17.5,\n          13.25\n        ],\n        \"semantic_type\": \"\",\n        \"description\": \"\"\n      }\n    },\n    {\n      \"column\": \"total_price\",\n      \"properties\": {\n        \"dtype\": \"number\",\n        \"std\": 4.4373975811805755,\n        \"min\": 9.75,\n        \"max\": 83.0,\n        \"num_unique_values\": 56,\n        \"samples\": [\n          13.25,\n          12.75,\n          37.5\n        ],\n        \"semantic_type\": \"\",\n        \"description\": \"\"\n      }\n    },\n    {\n      \"column\": \"pizza_size\",\n      \"properties\": {\n        \"dtype\": \"category\",\n        \"num_unique_values\": 5,\n        \"samples\": [\n          \"L\",\n          \"XXL\",\n          \"S\"\n        ],\n        \"semantic_type\": \"\",\n        \"description\": \"\"\n      }\n    },\n    {\n      \"column\": \"pizza_category\",\n      \"properties\": {\n        \"dtype\": \"category\",\n        \"num_unique_values\": 4,\n        \"samples\": [\n          \"Veggie\",\n          \"Chicken\",\n          \"Classic\"\n        ],\n        \"semantic_type\": \"\",\n        \"description\": \"\"\n      }\n    },\n    {\n      \"column\": \"pizza_ingredients\",\n      \"properties\": {\n        \"dtype\": \"category\",\n        \"num_unique_values\": 32,\n        \"samples\": [\n          \"Chicken, Red Onions, Red Peppers, Mushrooms, Asiago Cheese, Alfredo Sauce\",\n          \"Chicken, Tomatoes, Red Peppers, Red Onions, Jalapeno Peppers, Corn, Cilantro, Chipotle Sauce\",\n          \"Eggplant, Artichokes, Tomatoes, Zucchini, Red Peppers, Garlic, Pesto Sauce\"\n        ],\n        \"semantic_type\": \"\",\n        \"description\": \"\"\n      }\n    },\n    {\n      \"column\": \"pizza_name\",\n      \"properties\": {\n        \"dtype\": \"category\",\n        \"num_unique_values\": 32,\n        \"samples\": [\n          \"The Chicken Alfredo Pizza\",\n          \"The Southwest Chicken Pizza\",\n          \"The Italian Vegetables Pizza\"\n        ],\n        \"semantic_type\": \"\",\n        \"description\": \"\"\n      }\n    }\n  ]\n}"
            }
          },
          "metadata": {},
          "execution_count": 76
        }
      ]
    },
    {
      "cell_type": "code",
      "source": [
        "# jumlah data yang duplikat\n",
        "dpl1 = pizza_sales.duplicated().sum()\n",
        "print(f'Jumlah data duplikat = {dpl1}')"
      ],
      "metadata": {
        "colab": {
          "base_uri": "https://localhost:8080/"
        },
        "id": "8h3zaLwjYQXJ",
        "outputId": "5f02aa79-ff59-49e7-fe74-083fb59a9582"
      },
      "execution_count": 79,
      "outputs": [
        {
          "output_type": "stream",
          "name": "stdout",
          "text": [
            "Jumlah data duplikat = 0\n"
          ]
        }
      ]
    },
    {
      "cell_type": "code",
      "source": [
        "# jumlah missing value\n",
        "pizza_sales.isnull().sum()"
      ],
      "metadata": {
        "colab": {
          "base_uri": "https://localhost:8080/",
          "height": 460
        },
        "id": "dBXOyWXWY40N",
        "outputId": "2591787d-f3df-4872-a4bf-be35f8fb5d77"
      },
      "execution_count": 81,
      "outputs": [
        {
          "output_type": "execute_result",
          "data": {
            "text/plain": [
              "pizza_id             0\n",
              "order_id             0\n",
              "pizza_name_id        0\n",
              "quantity             0\n",
              "order_date           0\n",
              "order_time           0\n",
              "unit_price           0\n",
              "total_price          0\n",
              "pizza_size           0\n",
              "pizza_category       0\n",
              "pizza_ingredients    0\n",
              "pizza_name           0\n",
              "dtype: int64"
            ],
            "text/html": [
              "<div>\n",
              "<style scoped>\n",
              "    .dataframe tbody tr th:only-of-type {\n",
              "        vertical-align: middle;\n",
              "    }\n",
              "\n",
              "    .dataframe tbody tr th {\n",
              "        vertical-align: top;\n",
              "    }\n",
              "\n",
              "    .dataframe thead th {\n",
              "        text-align: right;\n",
              "    }\n",
              "</style>\n",
              "<table border=\"1\" class=\"dataframe\">\n",
              "  <thead>\n",
              "    <tr style=\"text-align: right;\">\n",
              "      <th></th>\n",
              "      <th>0</th>\n",
              "    </tr>\n",
              "  </thead>\n",
              "  <tbody>\n",
              "    <tr>\n",
              "      <th>pizza_id</th>\n",
              "      <td>0</td>\n",
              "    </tr>\n",
              "    <tr>\n",
              "      <th>order_id</th>\n",
              "      <td>0</td>\n",
              "    </tr>\n",
              "    <tr>\n",
              "      <th>pizza_name_id</th>\n",
              "      <td>0</td>\n",
              "    </tr>\n",
              "    <tr>\n",
              "      <th>quantity</th>\n",
              "      <td>0</td>\n",
              "    </tr>\n",
              "    <tr>\n",
              "      <th>order_date</th>\n",
              "      <td>0</td>\n",
              "    </tr>\n",
              "    <tr>\n",
              "      <th>order_time</th>\n",
              "      <td>0</td>\n",
              "    </tr>\n",
              "    <tr>\n",
              "      <th>unit_price</th>\n",
              "      <td>0</td>\n",
              "    </tr>\n",
              "    <tr>\n",
              "      <th>total_price</th>\n",
              "      <td>0</td>\n",
              "    </tr>\n",
              "    <tr>\n",
              "      <th>pizza_size</th>\n",
              "      <td>0</td>\n",
              "    </tr>\n",
              "    <tr>\n",
              "      <th>pizza_category</th>\n",
              "      <td>0</td>\n",
              "    </tr>\n",
              "    <tr>\n",
              "      <th>pizza_ingredients</th>\n",
              "      <td>0</td>\n",
              "    </tr>\n",
              "    <tr>\n",
              "      <th>pizza_name</th>\n",
              "      <td>0</td>\n",
              "    </tr>\n",
              "  </tbody>\n",
              "</table>\n",
              "</div><br><label><b>dtype:</b> int64</label>"
            ]
          },
          "metadata": {},
          "execution_count": 81
        }
      ]
    },
    {
      "cell_type": "code",
      "source": [
        "# mendownload data pizza sales\n",
        "pizza_sales.to_csv('pizza_sales_cln.csv',index=0)"
      ],
      "metadata": {
        "id": "v5irC35VZMrM"
      },
      "execution_count": 84,
      "outputs": []
    }
  ]
}